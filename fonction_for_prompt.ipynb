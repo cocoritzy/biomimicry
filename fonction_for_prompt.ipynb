{
  "nbformat": 4,
  "nbformat_minor": 0,
  "metadata": {
    "colab": {
      "provenance": []
    },
    "kernelspec": {
      "name": "python3",
      "display_name": "Python 3"
    },
    "language_info": {
      "name": "python"
    }
  },
  "cells": [
    {
      "cell_type": "code",
      "source": [
        "import json\n",
        "with open(\"leaf.json\", \"r\") as f:\n",
        "    data = json.load(f)"
      ],
      "metadata": {
        "id": "a-gOVlOce6gQ"
      },
      "execution_count": null,
      "outputs": []
    },
    {
      "cell_type": "code",
      "source": [
        "model = data[\"models\"][0]\n",
        "model"
      ],
      "metadata": {
        "colab": {
          "base_uri": "https://localhost:8080/"
        },
        "id": "zjGA9x3DKtev",
        "outputId": "0aab61df-5202-4cb0-b8e3-d422d40b2d7f"
      },
      "execution_count": null,
      "outputs": [
        {
          "output_type": "execute_result",
          "data": {
            "text/plain": [
              "{'title': 'Lotus Leaf Superhydrophobic Surface',\n",
              " 'organism': 'Nelumbo nucifera (Sacred Lotus)',\n",
              " 'taxonomic_kingdom': 'Plants (Multicellular photosynthetic organisms)',\n",
              " 'environment': 'Semi-aquatic environment, muddy and dirty ponds',\n",
              " 'biome': 'Aquatic Freshwater Lentic (Lakes, Ponds, Rivers, Streams)',\n",
              " 'problem': 'Maintaining a clean surface in a dirty, semi-aquatic environment to ensure efficient photosynthesis and prevent pathogen growth.',\n",
              " 'solution': 'The lotus leaf employs a hierarchical surface structure combined with a low surface energy wax to achieve superhydrophobicity. This allows water to bead up and roll off the surface, collecting dirt and debris along the way, effectively self-cleaning the leaf.',\n",
              " 'functional_components': [{'function': 'Creating microscale roughness on the leaf surface',\n",
              "   'description': 'The lotus leaf surface is covered in papillae, which are protrusions ranging from 1 to 5 μm in height. These papillae create a microscale roughness that increases the surface area and reduces the contact area between the leaf and water droplets. This roughness is a key component of the superhydrophobic effect, as it promotes the formation of air pockets between the water droplet and the leaf surface.',\n",
              "   'scale': 'Microscale (1-1000 μm)',\n",
              "   'categories': ['Structural: Form, Architecture, Scaffolding, Topology, Static Load Bearing'],\n",
              "   'characteristic_dimensions': [{'name': 'Papillae Height',\n",
              "     'value': 1.0,\n",
              "     'unit': 'μm'},\n",
              "    {'name': 'Papillae Height', 'value': 5.0, 'unit': 'μm'}],\n",
              "   'abstracted_design_principles': [{'description': 'Creating a rough surface texture increases the surface area and reduces the contact area with external elements. This promotes the formation of gaps or pockets between the surface and contacting elements, influencing interaction and adhesion.',\n",
              "     'low_abstraction': 'Minimize surface contact by introducing microscale protrusions.',\n",
              "     'high_abstraction': 'Control interfacial interactions using surface irregularities.'}]},\n",
              "  {'function': 'Creating nanoscale roughness on the microscale papillae',\n",
              "   'description': 'Each papilla is covered with nanoscale, hair-like structures. These nanostructures further increase the surface roughness and reduce the contact area between the leaf and water droplets. The combination of micro- and nanoscale roughness creates a hierarchical structure that is highly effective at repelling water.',\n",
              "   'scale': 'Nanoscale (1-100 nm)',\n",
              "   'categories': ['Structural: Form, Architecture, Scaffolding, Topology, Static Load Bearing'],\n",
              "   'characteristic_dimensions': [{'name': 'Nanoscale hair length',\n",
              "     'value': 200.0,\n",
              "     'unit': 'nm'}],\n",
              "   'abstracted_design_principles': [{'description': \"Creating a hierarchical structure with roughness at multiple scales enhances a surface's ability to repel liquids by minimizing the contact area between the surface and the liquid.\",\n",
              "     'low_abstraction': 'Reduce surface adhesion by creating multi-scale textures',\n",
              "     'high_abstraction': 'Minimize surface interactions using hierarchical structuring'}]},\n",
              "  {'function': 'Reducing surface energy',\n",
              "   'description': 'The lotus leaf surface is coated with a layer of epicuticular wax crystalloids. This wax has a low surface energy, which means that it does not attract water molecules. The combination of low surface energy and hierarchical roughness creates a surface that is highly repellent to water.',\n",
              "   'scale': 'Nanoscale (1-100 nm)',\n",
              "   'categories': ['Chemical: Reactions, Catalysis, Sensing (Chemoreception), Signaling, Synthesis, Material Composition'],\n",
              "   'characteristic_dimensions': [{'name': 'Wax crystalloid diameter',\n",
              "     'value': 200.0,\n",
              "     'unit': 'nm'}],\n",
              "   'abstracted_design_principles': [{'description': 'Surface energy reduction minimizes attraction to external substances, promoting repellency. This is achieved by employing materials with inherently low surface energy characteristics.',\n",
              "     'low_abstraction': 'Minimize substance adhesion by employing low-energy materials.',\n",
              "     'high_abstraction': 'Reduce interaction by utilizing materials with tailored properties.'},\n",
              "    {'description': 'Hierarchical roughness, in combination with low surface energy, enhances repellency by minimizing the contact area between the surface and external substances.',\n",
              "     'low_abstraction': 'Enhance surface repellency by combining low-energy materials with hierarchical textures.',\n",
              "     'high_abstraction': 'Control surface interaction by integrating material properties with structural features.'}]},\n",
              "  {'function': 'Trapping air between the water droplet and the leaf surface',\n",
              "   'description': 'The hierarchical micro/nanostructure and low surface energy wax allow air to be trapped under the floating water drops. This trapped air further reduces the contact area between the water droplet and the leaf surface, contributing to the superhydrophobic and self-cleaning behavior of the lotus leaf. The air pocket minimizes adhesion between the water and the solid surface.',\n",
              "   'scale': 'Microscale (1-1000 μm)',\n",
              "   'categories': ['Fluidic: Fluid Dynamics (Air/Water), Flow Control, Drag Reduction, Lift, Transport'],\n",
              "   'characteristic_dimensions': [],\n",
              "   'abstracted_design_principles': [{'description': 'Air is trapped between a liquid and a surface due to a combination of surface texture and low surface energy material properties. This trapped air reduces the contact area between the liquid and the surface, minimizing adhesion.',\n",
              "     'low_abstraction': 'Minimize surface adhesion by trapping gas between interfaces.',\n",
              "     'high_abstraction': 'Reduce interfacial contact using an intermediate layer.'}]}]}"
            ]
          },
          "metadata": {},
          "execution_count": 10
        }
      ]
    },
    {
      "cell_type": "code",
      "source": [
        "def generate_prompt_strictly_from_json(data):\n",
        "    title = data.get(\"title\", \"Scientific Infographic\")\n",
        "    organism = data.get(\"organism\", \"Unknown Organism\")\n",
        "    problem = data.get(\"problem\", \"\")\n",
        "    solution = data.get(\"solution\", \"\")\n",
        "    components = data[\"functional_components\"]\n",
        "    number_layers = len(components) + 1\n",
        "\n",
        "    # Prompt header from title and assumed diagram style\n",
        "    prompt = ( f\"Create an isometric scientific infographic with '{number_layers}' vertically exploded layers aligned on a central axis, evenly spaced, viewed at 30° X and Y angles. Use a flat grey (#CCCCCC) background with a light isometric grid. \"\n",
        "        \"No shadows, text, or background elements.\")\n",
        "\n",
        "    # Top layer: Organism\n",
        "    prompt += (\n",
        "        f\"Top Layer (Organism):\\n\"\n",
        "        f\"A photo-realistic, centered {organism.lower()} viewed from above,  .\"\n",
        "    )\n",
        "\n",
        "    # Lower layers\n",
        "\n",
        "\n",
        "    # Visual style inferred from structure type\n",
        "    prompt += (\n",
        "        \"\\nVisual Style:\\n\\n\"\n",
        "        \"Top layer: full-color, photo-realistic.\\n\\n\"\n",
        "        \"Lower layers: monochrome architectural line drawings (no shading, borders, or lighting).\\n\\n\"\n",
        "        \"Match blueprint/biomimetic technical diagram style.\\n\\n\"\n",
        "        \"No annotations or grid lines on layers.\"\n",
        "    )\n",
        "\n",
        "    return prompt\n"
      ],
      "metadata": {
        "id": "RrNwKKBfKTaU"
      },
      "execution_count": null,
      "outputs": []
    },
    {
      "cell_type": "code",
      "source": [
        "prompt = generate_prompt_strictly_from_json(model)\n",
        "prompt"
      ],
      "metadata": {
        "colab": {
          "base_uri": "https://localhost:8080/",
          "height": 125
        },
        "id": "oldK6vWgKXLg",
        "outputId": "3bbacb0f-434d-4da9-9eef-52ecb5b08a86"
      },
      "execution_count": null,
      "outputs": [
        {
          "output_type": "execute_result",
          "data": {
            "text/plain": [
              "\"Create an isometric scientific infographic titled 'Lotus Leaf Superhydrophobic Surface' with '5' vertically exploded layers aligned on a central axis, evenly spaced, viewed at 30° X and Y angles. Use a flat grey (#CCCCCC) background with a light isometric grid. No shadows, text, or background elements.\\n\\nTop Layer (Organism):\\nA photo-realistic, centered nelumbo nucifera (sacred lotus) .\\nVisual Style:\\n\\nTop layer: full-color, photo-realistic.\\n\\nLower layers: monochrome architectural line drawings (no shading, borders, or lighting).\\n\\nMatch blueprint/biomimetic technical diagram style.\\n\\nNo annotations or grid lines on layers.\""
            ],
            "application/vnd.google.colaboratory.intrinsic+json": {
              "type": "string"
            }
          },
          "metadata": {},
          "execution_count": 13
        }
      ]
    },
    {
      "cell_type": "code",
      "source": [
        ", evenly spaced, viewed at 30° X and Y angles. Use a flat grey (#CCCCCC) background with a light isometric grid. No shadows, text, or background elements. Top Layer (Organism): A photo-realistic, centered green lotus leaf viewed from above, showing clear vein patterns and a central water droplet. Lower Layers (Functional Components, all black-and-white linework): Nanostructure: Dense vertical nanorods on a square tile. Wax Crystals: Frost-like, irregular crystal texture simulating energy reduction. Papillae: Evenly spaced, dome-shaped hemispheres like bubble wrap. Air Layer: Tile with a single spherical droplet floating above it. Visual Style: Top layer: full-color, photo-realistic. Lower layers: monochrome architectural line drawings (no shading, borders, or lighting). Match blueprint/biomimetic technical diagram style. No annotations or grid lines on layers.\n"
      ],
      "metadata": {
        "id": "AstG_WqLLrsf"
      },
      "execution_count": null,
      "outputs": []
    }
  ]
}